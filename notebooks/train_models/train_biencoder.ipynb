{
 "cells": [
  {
   "cell_type": "code",
   "execution_count": null,
   "metadata": {
    "collapsed": true,
    "pycharm": {
     "name": "#%%\n"
    }
   },
   "outputs": [],
   "source": [
    "import os\n",
    "\n",
    "from nir.rankers.training.train_sentence_encoder import train_biencoder"
   ]
  },
  {
   "cell_type": "code",
   "execution_count": null,
   "outputs": [],
   "source": [
    "TASK_NAME = \"\"\n",
    "OUTPUT_DIR = f\"./outputs/biencoder/{TASK_NAME}/\"\n",
    "DATA_DIR = \"../data/\"\n",
    "\n",
    "os.makedirs(OUTPUT_DIR, exist_ok=True)"
   ],
   "metadata": {
    "collapsed": false,
    "pycharm": {
     "name": "#%%\n"
    }
   }
  },
  {
   "cell_type": "markdown",
   "source": [
    "# Prepare Dataset\n",
    "\n",
    "Input format expected is InputExample(texts=[A, B], label=0.)"
   ],
   "metadata": {
    "collapsed": false,
    "pycharm": {
     "name": "#%% md\n"
    }
   }
  },
  {
   "cell_type": "code",
   "source": [],
   "metadata": {
    "collapsed": false,
    "pycharm": {
     "name": "#%%\n"
    }
   },
   "execution_count": null,
   "outputs": []
  },
  {
   "cell_type": "code",
   "execution_count": null,
   "outputs": [],
   "source": [
    "train_biencoder(\n",
    "    model_fp_or_name=\"bert-base-uncased\",\n",
    "    output_dir=OUTPUT_DIR,\n",
    "    train_examples: List[InputExample],\n",
    "    dev_examples: List[InputExample], train_batch_size=32, num_epochs=3, warmup_steps=None,\n",
    "    evaluate_every_n_step: int = 1000,\n",
    "    special_tokens=None, pooling_mode=None, loss_func=None,\n",
    "    evaluator: SentenceEvaluator = None\n",
    ")"
   ],
   "metadata": {
    "collapsed": false,
    "pycharm": {
     "name": "#%%\n"
    }
   }
  }
 ],
 "metadata": {
  "kernelspec": {
   "display_name": "Python 3",
   "language": "python",
   "name": "python3"
  },
  "language_info": {
   "codemirror_mode": {
    "name": "ipython",
    "version": 2
   },
   "file_extension": ".py",
   "mimetype": "text/x-python",
   "name": "python",
   "nbconvert_exporter": "python",
   "pygments_lexer": "ipython2",
   "version": "2.7.6"
  }
 },
 "nbformat": 4,
 "nbformat_minor": 0
}