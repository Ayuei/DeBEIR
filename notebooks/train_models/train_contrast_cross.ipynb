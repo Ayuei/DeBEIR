{
 "cells": [
  {
   "cell_type": "code",
   "execution_count": null,
   "metadata": {
    "collapsed": true,
    "pycharm": {
     "name": "#%%\n",
     "is_executing": true
    }
   },
   "outputs": [],
   "source": [
    "import os\n",
    "\n",
    "import datasets as datasets\n",
    "\n",
    "from nir.training.train_sentence_encoder import train_huggingface_transformer\n",
    "\n",
    "TASK_NAME = \"contrastive_passage\"\n",
    "OUTPUT_DIR = f\"./outputs/cross_encoder/{TASK_NAME}/\"\n",
    "DATA_DIR = \"../data/\"\n",
    "\n",
    "os.makedirs(OUTPUT_DIR, exist_ok=True)"
   ]
  },
  {
   "cell_type": "code",
   "execution_count": null,
   "outputs": [],
   "source": [
    "from training.losses.contrastive import SupConLoss\n",
    "from datasets import DatasetDict\n",
    "from evaluation.cross_validation import CrossValidator\n",
    "from transformers import AutoTokenizer\n",
    "import datasets\n",
    "\n",
    "tokenizer = AutoTokenizer.from_pretrained(\"squeezebert-base-headless\")\n",
    "\n",
    "# 5 Fold cross validation\n",
    "\n",
    "vals_ds = datasets.load_dataset('csv', [\n",
    "    datasets.ReadInstruction('train', from_=k, to=k+20, unit='%')\n",
    "    for k in range(0, 100, 20)], data_files={\"train\": \"med_marco_train_enriched.csv\"})\n",
    "trains_ds = datasets.load_dataset('bookcorpus', [\n",
    "    (datasets.ReadInstruction('train', to=k, unit='%') +\n",
    "    datasets.ReadInstruction('train', from_=k+20, unit='%'))\n",
    "    for k in range(0, 100, 20)], data_files={\"train\": \"med_marco_train_enriched.csv\"})\n",
    "\n",
    "dataset = DatasetDict({'train': trains_ds, \"val\": vals_ds})\n",
    "\n",
    "trainer = train_huggingface_transformer(\"squeezebert-base-headless\",\n",
    "                              tokenizer,\n",
    "                              OUTPUT_DIR,\n",
    "                              None,\n",
    "                              None,\n",
    "                              dataset,\n",
    "                              loss_func=SupConLoss())"
   ],
   "metadata": {
    "collapsed": false,
    "pycharm": {
     "name": "#%%\n"
    }
   }
  },
  {
   "cell_type": "markdown",
   "source": [],
   "metadata": {
    "collapsed": false,
    "pycharm": {
     "name": "#%% md\n"
    }
   }
  }
 ],
 "metadata": {
  "kernelspec": {
   "display_name": "Python 3",
   "language": "python",
   "name": "python3"
  },
  "language_info": {
   "codemirror_mode": {
    "name": "ipython",
    "version": 2
   },
   "file_extension": ".py",
   "mimetype": "text/x-python",
   "name": "python",
   "nbconvert_exporter": "python",
   "pygments_lexer": "ipython2",
   "version": "2.7.6"
  }
 },
 "nbformat": 4,
 "nbformat_minor": 0
}