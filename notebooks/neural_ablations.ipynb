{
 "cells": [
  {
   "cell_type": "code",
   "execution_count": 1,
   "id": "1f1f9acd",
   "metadata": {},
   "outputs": [],
   "source": [
    "import tqdm\n",
    "import pandas as pd\n",
    "from glob import glob\n",
    "from utils.trec_wrapper import parse_run, calculate_scaling_factor\n",
    "from trectools import TrecQrel\n",
    "import os"
   ]
  },
  {
   "cell_type": "code",
   "execution_count": 2,
   "id": "de6e0fd4",
   "metadata": {},
   "outputs": [
    {
     "name": "stderr",
     "output_type": "stream",
     "text": [
      "C:\\Users\\sefto\\AppData\\Local\\Temp/ipykernel_21760/2880382916.py:10: TqdmDeprecationWarning: This function will be removed in tqdm==5.0.0\n",
      "Please use `tqdm.notebook.tqdm` instead of `tqdm.tqdm_notebook`\n",
      "  for met, depths in tqdm.tqdm_notebook(metrics.items()):\n"
     ]
    },
    {
     "data": {
      "text/plain": "  0%|          | 0/1 [00:00<?, ?it/s]",
      "application/vnd.jupyter.widget-view+json": {
       "version_major": 2,
       "version_minor": 0,
       "model_id": "247060c3c3af415f870d1ddb8ed090f4"
      }
     },
     "metadata": {},
     "output_type": "display_data"
    },
    {
     "data": {
      "text/plain": "      topic_num  variable_0    variable_1  value\n0         20141  recall@100   ablations_0    NaN\n1         20142  recall@100   ablations_0    NaN\n2         20143  recall@100   ablations_0    NaN\n3         20144  recall@100   ablations_0    NaN\n4         20145  recall@100   ablations_0    NaN\n...         ...         ...           ...    ...\n5954     201526  recall@100  ablations_99    NaN\n5955     201527  recall@100  ablations_99    NaN\n5956     201528  recall@100  ablations_99    NaN\n5957     201529  recall@100  ablations_99    NaN\n5958     201530  recall@100  ablations_99    NaN\n\n[5959 rows x 4 columns]",
      "text/html": "<div>\n<style scoped>\n    .dataframe tbody tr th:only-of-type {\n        vertical-align: middle;\n    }\n\n    .dataframe tbody tr th {\n        vertical-align: top;\n    }\n\n    .dataframe thead th {\n        text-align: right;\n    }\n</style>\n<table border=\"1\" class=\"dataframe\">\n  <thead>\n    <tr style=\"text-align: right;\">\n      <th></th>\n      <th>topic_num</th>\n      <th>variable_0</th>\n      <th>variable_1</th>\n      <th>value</th>\n    </tr>\n  </thead>\n  <tbody>\n    <tr>\n      <th>0</th>\n      <td>20141</td>\n      <td>recall@100</td>\n      <td>ablations_0</td>\n      <td>NaN</td>\n    </tr>\n    <tr>\n      <th>1</th>\n      <td>20142</td>\n      <td>recall@100</td>\n      <td>ablations_0</td>\n      <td>NaN</td>\n    </tr>\n    <tr>\n      <th>2</th>\n      <td>20143</td>\n      <td>recall@100</td>\n      <td>ablations_0</td>\n      <td>NaN</td>\n    </tr>\n    <tr>\n      <th>3</th>\n      <td>20144</td>\n      <td>recall@100</td>\n      <td>ablations_0</td>\n      <td>NaN</td>\n    </tr>\n    <tr>\n      <th>4</th>\n      <td>20145</td>\n      <td>recall@100</td>\n      <td>ablations_0</td>\n      <td>NaN</td>\n    </tr>\n    <tr>\n      <th>...</th>\n      <td>...</td>\n      <td>...</td>\n      <td>...</td>\n      <td>...</td>\n    </tr>\n    <tr>\n      <th>5954</th>\n      <td>201526</td>\n      <td>recall@100</td>\n      <td>ablations_99</td>\n      <td>NaN</td>\n    </tr>\n    <tr>\n      <th>5955</th>\n      <td>201527</td>\n      <td>recall@100</td>\n      <td>ablations_99</td>\n      <td>NaN</td>\n    </tr>\n    <tr>\n      <th>5956</th>\n      <td>201528</td>\n      <td>recall@100</td>\n      <td>ablations_99</td>\n      <td>NaN</td>\n    </tr>\n    <tr>\n      <th>5957</th>\n      <td>201529</td>\n      <td>recall@100</td>\n      <td>ablations_99</td>\n      <td>NaN</td>\n    </tr>\n    <tr>\n      <th>5958</th>\n      <td>201530</td>\n      <td>recall@100</td>\n      <td>ablations_99</td>\n      <td>NaN</td>\n    </tr>\n  </tbody>\n</table>\n<p>5959 rows × 4 columns</p>\n</div>"
     },
     "execution_count": 2,
     "metadata": {},
     "output_type": "execute_result"
    }
   ],
   "source": [
    "files = glob(\"../outputs/ablations.txt_*\") \n",
    "qrel = \"../assets/qrels-clinical_trials.txt\"\n",
    "\n",
    "metrics = {\n",
    "    'recall': [100]\n",
    "}\n",
    "\n",
    "all_runs = {}\n",
    "\n",
    "for met, depths in tqdm.tqdm_notebook(metrics.items()):\n",
    "    for depth in depths:\n",
    "        runs = {}    \n",
    "        metric = None\n",
    "        for fp in files: \n",
    "            parsed_run = parse_run(fp, qrel, metric=met, depth=depth)\n",
    "            fn = os.path.split(fp)[-1]\n",
    "\n",
    "            name = fn.replace('.txt', '')\n",
    "            runs[name] = parsed_run.run\n",
    "            metric = parsed_run.metric\n",
    "\n",
    "        all_runs[metric] = runs\n",
    "\n",
    "df = pd.concat({k: pd.DataFrame(v).T for k, v in all_runs.items()}, axis=0)\n",
    "df_melt = pd.melt(df.T, ignore_index=False).reset_index().rename(columns={\"index\": \"topic_num\"})\n",
    "df_melt"
   ]
  },
  {
   "cell_type": "code",
   "execution_count": 3,
   "id": "dbb3a040",
   "metadata": {},
   "outputs": [],
   "source": [
    "mappings = ['HasExpandedAccess', 'BriefSummary.Textblock', 'CompletionDate.Type', 'OversightInfo.Text',     'OverallContactBackup.PhoneExt', 'RemovedCountries.Text', 'SecondaryOutcome', 'Sponsors.LeadSponsor.Text', 'BriefTitl    e', 'IDInfo.NctID', 'IDInfo.SecondaryID', 'OverallContactBackup.Phone', 'Eligibility.StudyPop.Textblock', 'DetailedDe    scription.Textblock', 'Eligibility.MinimumAge', 'Sponsors.Collaborator', 'Reference', 'Eligibility.Criteria.Textblock    ', 'XMLName.Space', 'Rank', 'OverallStatus', 'InterventionBrowse.Text', 'Eligibility.Text', 'Intervention', 'BiospecD    escr.Textblock', 'ResponsibleParty.NameTitle', 'NumberOfArms', 'ResponsibleParty.ResponsiblePartyType', 'IsSection801    ', 'Acronym', 'Eligibility.MaximumAge', 'DetailedDescription.Text', 'StudyDesign', 'OtherOutcome', 'VerificationDate'    , 'ConditionBrowse.MeshTerm', 'Enrollment.Text', 'IDInfo.Text', 'ConditionBrowse.Text', 'FirstreceivedDate', 'NumberO    fGroups', 'OversightInfo.HasDmc', 'PrimaryCompletionDate.Text', 'ResultsReference', 'Eligibility.StudyPop.Text', 'IsF    daRegulated', 'WhyStopped', 'ArmGroup', 'OverallContact.LastName', 'Phase', 'RemovedCountries.Country', 'Intervention    Browse.MeshTerm', 'Eligibility.HealthyVolunteers', 'Location', 'OfficialTitle', 'OverallContact.Email', 'RequiredHeader.Text', 'RequiredHeader.URL', 'LocationCountries.Country', 'OverallContact.PhoneExt', 'Condition', 'PrimaryOutcome'    , 'LocationCountries.Text', 'BiospecDescr.Text', 'IDInfo.OrgStudyID', 'Link', 'OverallContact.Phone', 'Source', 'Resp    onsibleParty.InvestigatorAffiliation', 'StudyType', 'FirstreceivedResultsDate', 'Enrollment.Type', 'Eligibility.Gende    r', 'OverallContactBackup.LastName', 'Keyword', 'BiospecRetention', 'CompletionDate.Text', 'OverallContact.Text', 'Re    quiredHeader.DownloadDate', 'Sponsors.Text', 'Text', 'Eligibility.SamplingMethod', 'LastchangedDate', 'ResponsiblePar    ty.InvestigatorFullName', 'StartDate', 'RequiredHeader.LinkText', 'OverallOfficial', 'Sponsors.LeadSponsor.AgencyClas    s', 'OverallContactBackup.Text', 'Eligibility.Criteria.Text', 'XMLName.Local', 'OversightInfo.Authority', 'PrimaryCom    pletionDate.Type', 'ResponsibleParty.Organization', 'IDInfo.NctAlias', 'ResponsibleParty.Text', 'TargetDuration', 'Sp    onsors.LeadSponsor.Agency', 'BriefSummary.Text', 'OverallContactBackup.Email', 'ResponsibleParty.InvestigatorTitle']\n"
   ]
  },
  {
   "cell_type": "code",
   "execution_count": 4,
   "id": "93b46f0b",
   "metadata": {},
   "outputs": [],
   "source": [
    "mappings = list(map(lambda k: k.replace(' ', ''), mappings))"
   ]
  },
  {
   "cell_type": "code",
   "execution_count": 5,
   "id": "fced2081",
   "metadata": {},
   "outputs": [
    {
     "name": "stderr",
     "output_type": "stream",
     "text": [
      "C:\\Users\\sefto\\AppData\\Local\\Temp/ipykernel_21760/2254035256.py:1: TqdmDeprecationWarning: This function will be removed in tqdm==5.0.0\n",
      "Please use `tqdm.notebook.tqdm` instead of `tqdm.tqdm_notebook`\n",
      "  for index, row in tqdm.tqdm_notebook(df_melt.iterrows(), total=len(df_melt)):\n"
     ]
    },
    {
     "data": {
      "text/plain": "  0%|          | 0/5959 [00:00<?, ?it/s]",
      "application/vnd.jupyter.widget-view+json": {
       "version_major": 2,
       "version_minor": 0,
       "model_id": "e2418acfb40f4598bd6a42b82c4eafdf"
      }
     },
     "metadata": {},
     "output_type": "display_data"
    },
    {
     "data": {
      "text/plain": "      topic_num  variable_0                  variable_1  value\n0         20141  recall@100           HasExpandedAccess    NaN\n1         20142  recall@100           HasExpandedAccess    NaN\n2         20143  recall@100           HasExpandedAccess    NaN\n3         20144  recall@100           HasExpandedAccess    NaN\n4         20145  recall@100           HasExpandedAccess    NaN\n...         ...         ...                         ...    ...\n5954     201526  recall@100  OverallContactBackup.Email    NaN\n5955     201527  recall@100  OverallContactBackup.Email    NaN\n5956     201528  recall@100  OverallContactBackup.Email    NaN\n5957     201529  recall@100  OverallContactBackup.Email    NaN\n5958     201530  recall@100  OverallContactBackup.Email    NaN\n\n[5959 rows x 4 columns]",
      "text/html": "<div>\n<style scoped>\n    .dataframe tbody tr th:only-of-type {\n        vertical-align: middle;\n    }\n\n    .dataframe tbody tr th {\n        vertical-align: top;\n    }\n\n    .dataframe thead th {\n        text-align: right;\n    }\n</style>\n<table border=\"1\" class=\"dataframe\">\n  <thead>\n    <tr style=\"text-align: right;\">\n      <th></th>\n      <th>topic_num</th>\n      <th>variable_0</th>\n      <th>variable_1</th>\n      <th>value</th>\n    </tr>\n  </thead>\n  <tbody>\n    <tr>\n      <th>0</th>\n      <td>20141</td>\n      <td>recall@100</td>\n      <td>HasExpandedAccess</td>\n      <td>NaN</td>\n    </tr>\n    <tr>\n      <th>1</th>\n      <td>20142</td>\n      <td>recall@100</td>\n      <td>HasExpandedAccess</td>\n      <td>NaN</td>\n    </tr>\n    <tr>\n      <th>2</th>\n      <td>20143</td>\n      <td>recall@100</td>\n      <td>HasExpandedAccess</td>\n      <td>NaN</td>\n    </tr>\n    <tr>\n      <th>3</th>\n      <td>20144</td>\n      <td>recall@100</td>\n      <td>HasExpandedAccess</td>\n      <td>NaN</td>\n    </tr>\n    <tr>\n      <th>4</th>\n      <td>20145</td>\n      <td>recall@100</td>\n      <td>HasExpandedAccess</td>\n      <td>NaN</td>\n    </tr>\n    <tr>\n      <th>...</th>\n      <td>...</td>\n      <td>...</td>\n      <td>...</td>\n      <td>...</td>\n    </tr>\n    <tr>\n      <th>5954</th>\n      <td>201526</td>\n      <td>recall@100</td>\n      <td>OverallContactBackup.Email</td>\n      <td>NaN</td>\n    </tr>\n    <tr>\n      <th>5955</th>\n      <td>201527</td>\n      <td>recall@100</td>\n      <td>OverallContactBackup.Email</td>\n      <td>NaN</td>\n    </tr>\n    <tr>\n      <th>5956</th>\n      <td>201528</td>\n      <td>recall@100</td>\n      <td>OverallContactBackup.Email</td>\n      <td>NaN</td>\n    </tr>\n    <tr>\n      <th>5957</th>\n      <td>201529</td>\n      <td>recall@100</td>\n      <td>OverallContactBackup.Email</td>\n      <td>NaN</td>\n    </tr>\n    <tr>\n      <th>5958</th>\n      <td>201530</td>\n      <td>recall@100</td>\n      <td>OverallContactBackup.Email</td>\n      <td>NaN</td>\n    </tr>\n  </tbody>\n</table>\n<p>5959 rows × 4 columns</p>\n</div>"
     },
     "execution_count": 5,
     "metadata": {},
     "output_type": "execute_result"
    }
   ],
   "source": [
    "for index, row in tqdm.tqdm_notebook(df_melt.iterrows(), total=len(df_melt)):\n",
    "    s = \"\"\n",
    "    name = row.variable_1\n",
    "    \n",
    "    df_melt.loc[index, 'variable_1'] = mappings[int(name.split('_')[-1])]\n",
    "    \n",
    "df_melt"
   ]
  },
  {
   "cell_type": "code",
   "execution_count": 6,
   "id": "0bbf9deb",
   "metadata": {},
   "outputs": [
    {
     "data": {
      "text/plain": "                                              topic_num     value\nvariable_1                                                       \nLocationCountries.Country                  20159.000000  1.000000\nBiospecRetention                          201529.000000  0.250000\nDetailedDescription.Textblock             144808.437500  0.174546\nHasExpandedAccess                         201514.000000  0.166667\nConditionBrowse.MeshTerm                  161174.777778  0.155455\nRequiredHeader.LinkText                   201520.000000  0.145833\nWhyStopped                                110837.500000  0.131250\nBriefSummary.Textblock                    132699.965517  0.128887\nEligibility.Criteria.Textblock            165206.400000  0.120261\nOfficialTitle                             131724.230769  0.117673\nEligibility.MaximumAge                     20158.000000  0.111111\nEligibility.StudyPop.Textblock            110815.125000  0.098429\nBiospecDescr.Textblock                    149671.571429  0.094193\nBriefTitle                                147069.900000  0.092508\nEligibility.MinimumAge                    201518.250000  0.089774\nResponsibleParty.Organization              20148.000000  0.076923\nTargetDuration                            201510.000000  0.066667\nCondition                                 171224.666667  0.057784\nIDInfo.OrgStudyID                         201517.000000  0.050000\nKeyword                                   156129.500000  0.048515\nSource                                    201473.000000  0.045000\nSponsors.LeadSponsor.Agency               201473.000000  0.045000\nResponsibleParty.InvestigatorAffiliation  156129.750000  0.040984\nOversightInfo.Authority                   201429.000000  0.040000\nOversightInfo.HasDmc                       20149.000000  0.037323\nOverallContact.Phone                      201424.500000  0.034347\nPhase                                      20156.000000  0.029412\nOverallContactBackup.LastName              20153.000000  0.027027\nAcronym                                    20153.000000  0.027027\nInterventionBrowse.MeshTerm                20147.000000  0.023810\nRemovedCountries.Country                  201518.000000  0.015873",
      "text/html": "<div>\n<style scoped>\n    .dataframe tbody tr th:only-of-type {\n        vertical-align: middle;\n    }\n\n    .dataframe tbody tr th {\n        vertical-align: top;\n    }\n\n    .dataframe thead th {\n        text-align: right;\n    }\n</style>\n<table border=\"1\" class=\"dataframe\">\n  <thead>\n    <tr style=\"text-align: right;\">\n      <th></th>\n      <th>topic_num</th>\n      <th>value</th>\n    </tr>\n    <tr>\n      <th>variable_1</th>\n      <th></th>\n      <th></th>\n    </tr>\n  </thead>\n  <tbody>\n    <tr>\n      <th>LocationCountries.Country</th>\n      <td>20159.000000</td>\n      <td>1.000000</td>\n    </tr>\n    <tr>\n      <th>BiospecRetention</th>\n      <td>201529.000000</td>\n      <td>0.250000</td>\n    </tr>\n    <tr>\n      <th>DetailedDescription.Textblock</th>\n      <td>144808.437500</td>\n      <td>0.174546</td>\n    </tr>\n    <tr>\n      <th>HasExpandedAccess</th>\n      <td>201514.000000</td>\n      <td>0.166667</td>\n    </tr>\n    <tr>\n      <th>ConditionBrowse.MeshTerm</th>\n      <td>161174.777778</td>\n      <td>0.155455</td>\n    </tr>\n    <tr>\n      <th>RequiredHeader.LinkText</th>\n      <td>201520.000000</td>\n      <td>0.145833</td>\n    </tr>\n    <tr>\n      <th>WhyStopped</th>\n      <td>110837.500000</td>\n      <td>0.131250</td>\n    </tr>\n    <tr>\n      <th>BriefSummary.Textblock</th>\n      <td>132699.965517</td>\n      <td>0.128887</td>\n    </tr>\n    <tr>\n      <th>Eligibility.Criteria.Textblock</th>\n      <td>165206.400000</td>\n      <td>0.120261</td>\n    </tr>\n    <tr>\n      <th>OfficialTitle</th>\n      <td>131724.230769</td>\n      <td>0.117673</td>\n    </tr>\n    <tr>\n      <th>Eligibility.MaximumAge</th>\n      <td>20158.000000</td>\n      <td>0.111111</td>\n    </tr>\n    <tr>\n      <th>Eligibility.StudyPop.Textblock</th>\n      <td>110815.125000</td>\n      <td>0.098429</td>\n    </tr>\n    <tr>\n      <th>BiospecDescr.Textblock</th>\n      <td>149671.571429</td>\n      <td>0.094193</td>\n    </tr>\n    <tr>\n      <th>BriefTitle</th>\n      <td>147069.900000</td>\n      <td>0.092508</td>\n    </tr>\n    <tr>\n      <th>Eligibility.MinimumAge</th>\n      <td>201518.250000</td>\n      <td>0.089774</td>\n    </tr>\n    <tr>\n      <th>ResponsibleParty.Organization</th>\n      <td>20148.000000</td>\n      <td>0.076923</td>\n    </tr>\n    <tr>\n      <th>TargetDuration</th>\n      <td>201510.000000</td>\n      <td>0.066667</td>\n    </tr>\n    <tr>\n      <th>Condition</th>\n      <td>171224.666667</td>\n      <td>0.057784</td>\n    </tr>\n    <tr>\n      <th>IDInfo.OrgStudyID</th>\n      <td>201517.000000</td>\n      <td>0.050000</td>\n    </tr>\n    <tr>\n      <th>Keyword</th>\n      <td>156129.500000</td>\n      <td>0.048515</td>\n    </tr>\n    <tr>\n      <th>Source</th>\n      <td>201473.000000</td>\n      <td>0.045000</td>\n    </tr>\n    <tr>\n      <th>Sponsors.LeadSponsor.Agency</th>\n      <td>201473.000000</td>\n      <td>0.045000</td>\n    </tr>\n    <tr>\n      <th>ResponsibleParty.InvestigatorAffiliation</th>\n      <td>156129.750000</td>\n      <td>0.040984</td>\n    </tr>\n    <tr>\n      <th>OversightInfo.Authority</th>\n      <td>201429.000000</td>\n      <td>0.040000</td>\n    </tr>\n    <tr>\n      <th>OversightInfo.HasDmc</th>\n      <td>20149.000000</td>\n      <td>0.037323</td>\n    </tr>\n    <tr>\n      <th>OverallContact.Phone</th>\n      <td>201424.500000</td>\n      <td>0.034347</td>\n    </tr>\n    <tr>\n      <th>Phase</th>\n      <td>20156.000000</td>\n      <td>0.029412</td>\n    </tr>\n    <tr>\n      <th>OverallContactBackup.LastName</th>\n      <td>20153.000000</td>\n      <td>0.027027</td>\n    </tr>\n    <tr>\n      <th>Acronym</th>\n      <td>20153.000000</td>\n      <td>0.027027</td>\n    </tr>\n    <tr>\n      <th>InterventionBrowse.MeshTerm</th>\n      <td>20147.000000</td>\n      <td>0.023810</td>\n    </tr>\n    <tr>\n      <th>RemovedCountries.Country</th>\n      <td>201518.000000</td>\n      <td>0.015873</td>\n    </tr>\n  </tbody>\n</table>\n</div>"
     },
     "execution_count": 6,
     "metadata": {},
     "output_type": "execute_result"
    }
   ],
   "source": [
    "df = df_melt.sort_values(by='value', ascending=False)\n",
    "df[df['value'] > 0.0].groupby(['variable_1']).mean().sort_values(by='value', ascending=False)"
   ]
  },
  {
   "cell_type": "code",
   "execution_count": 6,
   "id": "d8e52907",
   "metadata": {},
   "outputs": [],
   "source": []
  },
  {
   "cell_type": "code",
   "execution_count": 6,
   "id": "6860c926",
   "metadata": {},
   "outputs": [],
   "source": []
  }
 ],
 "metadata": {
  "kernelspec": {
   "display_name": "Python 3 (ipykernel)",
   "language": "python",
   "name": "python3"
  },
  "language_info": {
   "codemirror_mode": {
    "name": "ipython",
    "version": 3
   },
   "file_extension": ".py",
   "mimetype": "text/x-python",
   "name": "python",
   "nbconvert_exporter": "python",
   "pygments_lexer": "ipython3",
   "version": "3.9.5"
  }
 },
 "nbformat": 4,
 "nbformat_minor": 5
}