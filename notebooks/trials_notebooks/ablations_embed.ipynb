{
 "cells": [
  {
   "cell_type": "code",
   "execution_count": 22,
   "id": "1f1f9acd",
   "metadata": {},
   "outputs": [],
   "source": [
    "import tqdm\n",
    "import pandas as pd\n",
    "from glob import glob\n",
    "from utils.trec_wrapper import parse_run, calculate_scaling_factor\n",
    "from trectools import TrecQrel\n",
    "import os"
   ]
  },
  {
   "cell_type": "code",
   "execution_count": 23,
   "id": "de6e0fd4",
   "metadata": {},
   "outputs": [
    {
     "data": {
      "text/plain": "      topic_num   variable_0    variable_1  value\n0         20141  recall@1000   ablations_0    NaN\n1         20142  recall@1000   ablations_0    NaN\n2         20143  recall@1000   ablations_0    NaN\n3         20144  recall@1000   ablations_0    NaN\n4         20145  recall@1000   ablations_0    NaN\n...         ...          ...           ...    ...\n5954     201526  recall@1000  ablations_99    NaN\n5955     201527  recall@1000  ablations_99    NaN\n5956     201528  recall@1000  ablations_99    NaN\n5957     201529  recall@1000  ablations_99    NaN\n5958     201530  recall@1000  ablations_99    NaN\n\n[5959 rows x 4 columns]",
      "text/html": "<div>\n<style scoped>\n    .dataframe tbody tr th:only-of-type {\n        vertical-align: middle;\n    }\n\n    .dataframe tbody tr th {\n        vertical-align: top;\n    }\n\n    .dataframe thead th {\n        text-align: right;\n    }\n</style>\n<table border=\"1\" class=\"dataframe\">\n  <thead>\n    <tr style=\"text-align: right;\">\n      <th></th>\n      <th>topic_num</th>\n      <th>variable_0</th>\n      <th>variable_1</th>\n      <th>value</th>\n    </tr>\n  </thead>\n  <tbody>\n    <tr>\n      <th>0</th>\n      <td>20141</td>\n      <td>recall@1000</td>\n      <td>ablations_0</td>\n      <td>NaN</td>\n    </tr>\n    <tr>\n      <th>1</th>\n      <td>20142</td>\n      <td>recall@1000</td>\n      <td>ablations_0</td>\n      <td>NaN</td>\n    </tr>\n    <tr>\n      <th>2</th>\n      <td>20143</td>\n      <td>recall@1000</td>\n      <td>ablations_0</td>\n      <td>NaN</td>\n    </tr>\n    <tr>\n      <th>3</th>\n      <td>20144</td>\n      <td>recall@1000</td>\n      <td>ablations_0</td>\n      <td>NaN</td>\n    </tr>\n    <tr>\n      <th>4</th>\n      <td>20145</td>\n      <td>recall@1000</td>\n      <td>ablations_0</td>\n      <td>NaN</td>\n    </tr>\n    <tr>\n      <th>...</th>\n      <td>...</td>\n      <td>...</td>\n      <td>...</td>\n      <td>...</td>\n    </tr>\n    <tr>\n      <th>5954</th>\n      <td>201526</td>\n      <td>recall@1000</td>\n      <td>ablations_99</td>\n      <td>NaN</td>\n    </tr>\n    <tr>\n      <th>5955</th>\n      <td>201527</td>\n      <td>recall@1000</td>\n      <td>ablations_99</td>\n      <td>NaN</td>\n    </tr>\n    <tr>\n      <th>5956</th>\n      <td>201528</td>\n      <td>recall@1000</td>\n      <td>ablations_99</td>\n      <td>NaN</td>\n    </tr>\n    <tr>\n      <th>5957</th>\n      <td>201529</td>\n      <td>recall@1000</td>\n      <td>ablations_99</td>\n      <td>NaN</td>\n    </tr>\n    <tr>\n      <th>5958</th>\n      <td>201530</td>\n      <td>recall@1000</td>\n      <td>ablations_99</td>\n      <td>NaN</td>\n    </tr>\n  </tbody>\n</table>\n<p>5959 rows × 4 columns</p>\n</div>"
     },
     "execution_count": 23,
     "metadata": {},
     "output_type": "execute_result"
    }
   ],
   "source": [
    "files = glob(\"../outputs/ablations.txt_*\") \n",
    "qrel = \"../assets/qrels-clinical_trials.txt\"\n",
    "\n",
    "metrics = {\n",
    "    'recall': [1000]\n",
    "}\n",
    "\n",
    "all_runs = {}\n",
    "\n",
    "for met, depths in metrics.items():\n",
    "    for depth in depths:\n",
    "        runs = {}    \n",
    "        metric = None\n",
    "        for fp in files: \n",
    "            parsed_run = parse_run(fp, qrel, metric=met, depth=depth)\n",
    "            fn = os.path.split(fp)[-1]\n",
    "\n",
    "            name = fn.replace('.txt', '')\n",
    "            runs[name] = parsed_run.run\n",
    "            metric = parsed_run.metric\n",
    "\n",
    "        all_runs[metric] = runs\n",
    "\n",
    "df = pd.concat({k: pd.DataFrame(v).T for k, v in all_runs.items()}, axis=0)\n",
    "df_melt = pd.melt(df.T, ignore_index=False).reset_index().rename(columns={\"index\": \"topic_num\"})\n",
    "df_melt"
   ]
  },
  {
   "cell_type": "code",
   "execution_count": 24,
   "id": "dbb3a040",
   "metadata": {},
   "outputs": [],
   "source": [
    "mappings = ['HasExpandedAccess', 'BriefSummary.Textblock', 'CompletionDate.Type', 'OversightInfo.Text',     'OverallContactBackup.PhoneExt', 'RemovedCountries.Text', 'SecondaryOutcome', 'Sponsors.LeadSponsor.Text', 'BriefTitl    e', 'IDInfo.NctID', 'IDInfo.SecondaryID', 'OverallContactBackup.Phone', 'Eligibility.StudyPop.Textblock', 'DetailedDe    scription.Textblock', 'Eligibility.MinimumAge', 'Sponsors.Collaborator', 'Reference', 'Eligibility.Criteria.Textblock    ', 'XMLName.Space', 'Rank', 'OverallStatus', 'InterventionBrowse.Text', 'Eligibility.Text', 'Intervention', 'BiospecD    escr.Textblock', 'ResponsibleParty.NameTitle', 'NumberOfArms', 'ResponsibleParty.ResponsiblePartyType', 'IsSection801    ', 'Acronym', 'Eligibility.MaximumAge', 'DetailedDescription.Text', 'StudyDesign', 'OtherOutcome', 'VerificationDate'    , 'ConditionBrowse.MeshTerm', 'Enrollment.Text', 'IDInfo.Text', 'ConditionBrowse.Text', 'FirstreceivedDate', 'NumberO    fGroups', 'OversightInfo.HasDmc', 'PrimaryCompletionDate.Text', 'ResultsReference', 'Eligibility.StudyPop.Text', 'IsF    daRegulated', 'WhyStopped', 'ArmGroup', 'OverallContact.LastName', 'Phase', 'RemovedCountries.Country', 'Intervention    Browse.MeshTerm', 'Eligibility.HealthyVolunteers', 'Location', 'OfficialTitle', 'OverallContact.Email', 'RequiredHeader.Text', 'RequiredHeader.URL', 'LocationCountries.Country', 'OverallContact.PhoneExt', 'Condition', 'PrimaryOutcome'    , 'LocationCountries.Text', 'BiospecDescr.Text', 'IDInfo.OrgStudyID', 'Link', 'OverallContact.Phone', 'Source', 'Resp    onsibleParty.InvestigatorAffiliation', 'StudyType', 'FirstreceivedResultsDate', 'Enrollment.Type', 'Eligibility.Gende    r', 'OverallContactBackup.LastName', 'Keyword', 'BiospecRetention', 'CompletionDate.Text', 'OverallContact.Text', 'Re    quiredHeader.DownloadDate', 'Sponsors.Text', 'Text', 'Eligibility.SamplingMethod', 'LastchangedDate', 'ResponsiblePar    ty.InvestigatorFullName', 'StartDate', 'RequiredHeader.LinkText', 'OverallOfficial', 'Sponsors.LeadSponsor.AgencyClas    s', 'OverallContactBackup.Text', 'Eligibility.Criteria.Text', 'XMLName.Local', 'OversightInfo.Authority', 'PrimaryCom    pletionDate.Type', 'ResponsibleParty.Organization', 'IDInfo.NctAlias', 'ResponsibleParty.Text', 'TargetDuration', 'Sp    onsors.LeadSponsor.Agency', 'BriefSummary.Text', 'OverallContactBackup.Email', 'ResponsibleParty.InvestigatorTitle']\n"
   ]
  },
  {
   "cell_type": "code",
   "execution_count": 25,
   "id": "93b46f0b",
   "metadata": {},
   "outputs": [],
   "source": [
    "mappings = list(map(lambda k: k.replace(' ', ''), mappings))"
   ]
  },
  {
   "cell_type": "code",
   "execution_count": 26,
   "id": "fced2081",
   "metadata": {},
   "outputs": [
    {
     "data": {
      "text/plain": "      topic_num   variable_0                  variable_1  value\n0         20141  recall@1000           HasExpandedAccess    0.0\n1         20142  recall@1000           HasExpandedAccess    0.0\n2         20143  recall@1000           HasExpandedAccess    0.0\n3         20144  recall@1000           HasExpandedAccess    0.0\n4         20145  recall@1000           HasExpandedAccess    0.0\n...         ...          ...                         ...    ...\n5954     201526  recall@1000  OverallContactBackup.Email    0.0\n5955     201527  recall@1000  OverallContactBackup.Email    0.0\n5956     201528  recall@1000  OverallContactBackup.Email    0.0\n5957     201529  recall@1000  OverallContactBackup.Email    0.0\n5958     201530  recall@1000  OverallContactBackup.Email    0.0\n\n[5959 rows x 4 columns]",
      "text/html": "<div>\n<style scoped>\n    .dataframe tbody tr th:only-of-type {\n        vertical-align: middle;\n    }\n\n    .dataframe tbody tr th {\n        vertical-align: top;\n    }\n\n    .dataframe thead th {\n        text-align: right;\n    }\n</style>\n<table border=\"1\" class=\"dataframe\">\n  <thead>\n    <tr style=\"text-align: right;\">\n      <th></th>\n      <th>topic_num</th>\n      <th>variable_0</th>\n      <th>variable_1</th>\n      <th>value</th>\n    </tr>\n  </thead>\n  <tbody>\n    <tr>\n      <th>0</th>\n      <td>20141</td>\n      <td>recall@1000</td>\n      <td>HasExpandedAccess</td>\n      <td>0.0</td>\n    </tr>\n    <tr>\n      <th>1</th>\n      <td>20142</td>\n      <td>recall@1000</td>\n      <td>HasExpandedAccess</td>\n      <td>0.0</td>\n    </tr>\n    <tr>\n      <th>2</th>\n      <td>20143</td>\n      <td>recall@1000</td>\n      <td>HasExpandedAccess</td>\n      <td>0.0</td>\n    </tr>\n    <tr>\n      <th>3</th>\n      <td>20144</td>\n      <td>recall@1000</td>\n      <td>HasExpandedAccess</td>\n      <td>0.0</td>\n    </tr>\n    <tr>\n      <th>4</th>\n      <td>20145</td>\n      <td>recall@1000</td>\n      <td>HasExpandedAccess</td>\n      <td>0.0</td>\n    </tr>\n    <tr>\n      <th>...</th>\n      <td>...</td>\n      <td>...</td>\n      <td>...</td>\n      <td>...</td>\n    </tr>\n    <tr>\n      <th>5954</th>\n      <td>201526</td>\n      <td>recall@1000</td>\n      <td>OverallContactBackup.Email</td>\n      <td>0.0</td>\n    </tr>\n    <tr>\n      <th>5955</th>\n      <td>201527</td>\n      <td>recall@1000</td>\n      <td>OverallContactBackup.Email</td>\n      <td>0.0</td>\n    </tr>\n    <tr>\n      <th>5956</th>\n      <td>201528</td>\n      <td>recall@1000</td>\n      <td>OverallContactBackup.Email</td>\n      <td>0.0</td>\n    </tr>\n    <tr>\n      <th>5957</th>\n      <td>201529</td>\n      <td>recall@1000</td>\n      <td>OverallContactBackup.Email</td>\n      <td>0.0</td>\n    </tr>\n    <tr>\n      <th>5958</th>\n      <td>201530</td>\n      <td>recall@1000</td>\n      <td>OverallContactBackup.Email</td>\n      <td>0.0</td>\n    </tr>\n  </tbody>\n</table>\n<p>5959 rows × 4 columns</p>\n</div>"
     },
     "execution_count": 26,
     "metadata": {},
     "output_type": "execute_result"
    }
   ],
   "source": [
    "for index, row in df_melt.iterrows():\n",
    "    s = \"\"\n",
    "    name = row.variable_1\n",
    "    \n",
    "    df_melt.loc[index, 'variable_1'] = mappings[int(name.split('_')[-1])]\n",
    "    \n",
    "df_melt = df_melt.fillna(0)\n",
    "df_melt"
   ]
  },
  {
   "cell_type": "code",
   "execution_count": 27,
   "id": "0bbf9deb",
   "metadata": {
    "pycharm": {
     "name": "#%%\n"
    }
   },
   "outputs": [
    {
     "data": {
      "text/plain": "                                              topic_num     value\nvariable_1                                                       \nEligibility.Gender                        201526.000000  0.250000\nLocationCountries.Country                 128934.800000  0.238196\nDetailedDescription.Textblock             150224.500000  0.228902\nBriefSummary.Textblock                    139554.585366  0.213836\nConditionBrowse.MeshTerm                  153750.157895  0.201614\nEligibility.Criteria.Textblock            148984.157895  0.183380\nInterventionBrowse.MeshTerm                97866.714286  0.182976\nStudyType                                 201424.000000  0.166667\nIsFdaRegulated                            201514.000000  0.166667\nHasExpandedAccess                         201514.000000  0.166667\nRequiredHeader.LinkText                   201520.000000  0.145833\nBiospecRetention                          201476.000000  0.142544\nOfficialTitle                             141025.629630  0.125367\nEligibility.SamplingMethod                201526.000000  0.125000\nEligibility.StudyPop.Textblock            134323.518519  0.107066\nCondition                                 153110.066667  0.106716\nEligibility.MinimumAge                    171274.833333  0.098044\nKeyword                                   154165.956522  0.091655\nEligibility.MaximumAge                    149654.714286  0.090635\nBriefTitle                                125917.250000  0.090422\nOversightInfo.HasDmc                       80604.000000  0.080438\nOverallContact.LastName                   201472.000000  0.080201\nResponsibleParty.InvestigatorAffiliation  152001.727273  0.079493\nBiospecDescr.Textblock                    156135.250000  0.077757\nWhyStopped                                133455.500000  0.077128\nResponsibleParty.InvestigatorFullName     201443.500000  0.076682\nNumberOfGroups                            201469.250000  0.073989\nPhase                                     110799.833333  0.070856\nOverallContactBackup.LastName             110787.166667  0.067549\nOversightInfo.Authority                   201465.777778  0.065642\nIDInfo.SecondaryID                        201421.500000  0.065455\nNumberOfArms                              110781.000000  0.065126\nTargetDuration                            201498.800000  0.062110\nResponsibleParty.InvestigatorTitle        165202.400000  0.057543\nIDInfo.OrgStudyID                         175565.428571  0.051498\nResponsibleParty.Organization             119042.636364  0.050356\nAcronym                                   110786.000000  0.045853\nLastchangedDate                           141032.333333  0.044565\nOverallContactBackup.Phone                156152.500000  0.043847\nOverallContact.Phone                      165189.200000  0.042007\nResponsibleParty.NameTitle                141026.500000  0.040386\nSource                                    123761.428571  0.038875\nOverallStatus                             141036.666667  0.035926\nFirstreceivedDate                         141033.333333  0.034603\nFirstreceivedResultsDate                  110835.500000  0.033937\nEnrollment.Text                            80570.000000  0.033654\nStudyDesign                               156126.000000  0.033524\nSponsors.LeadSponsor.Agency               133481.125000  0.032648\nRemovedCountries.Country                  110831.500000  0.031746",
      "text/html": "<div>\n<style scoped>\n    .dataframe tbody tr th:only-of-type {\n        vertical-align: middle;\n    }\n\n    .dataframe tbody tr th {\n        vertical-align: top;\n    }\n\n    .dataframe thead th {\n        text-align: right;\n    }\n</style>\n<table border=\"1\" class=\"dataframe\">\n  <thead>\n    <tr style=\"text-align: right;\">\n      <th></th>\n      <th>topic_num</th>\n      <th>value</th>\n    </tr>\n    <tr>\n      <th>variable_1</th>\n      <th></th>\n      <th></th>\n    </tr>\n  </thead>\n  <tbody>\n    <tr>\n      <th>Eligibility.Gender</th>\n      <td>201526.000000</td>\n      <td>0.250000</td>\n    </tr>\n    <tr>\n      <th>LocationCountries.Country</th>\n      <td>128934.800000</td>\n      <td>0.238196</td>\n    </tr>\n    <tr>\n      <th>DetailedDescription.Textblock</th>\n      <td>150224.500000</td>\n      <td>0.228902</td>\n    </tr>\n    <tr>\n      <th>BriefSummary.Textblock</th>\n      <td>139554.585366</td>\n      <td>0.213836</td>\n    </tr>\n    <tr>\n      <th>ConditionBrowse.MeshTerm</th>\n      <td>153750.157895</td>\n      <td>0.201614</td>\n    </tr>\n    <tr>\n      <th>Eligibility.Criteria.Textblock</th>\n      <td>148984.157895</td>\n      <td>0.183380</td>\n    </tr>\n    <tr>\n      <th>InterventionBrowse.MeshTerm</th>\n      <td>97866.714286</td>\n      <td>0.182976</td>\n    </tr>\n    <tr>\n      <th>StudyType</th>\n      <td>201424.000000</td>\n      <td>0.166667</td>\n    </tr>\n    <tr>\n      <th>IsFdaRegulated</th>\n      <td>201514.000000</td>\n      <td>0.166667</td>\n    </tr>\n    <tr>\n      <th>HasExpandedAccess</th>\n      <td>201514.000000</td>\n      <td>0.166667</td>\n    </tr>\n    <tr>\n      <th>RequiredHeader.LinkText</th>\n      <td>201520.000000</td>\n      <td>0.145833</td>\n    </tr>\n    <tr>\n      <th>BiospecRetention</th>\n      <td>201476.000000</td>\n      <td>0.142544</td>\n    </tr>\n    <tr>\n      <th>OfficialTitle</th>\n      <td>141025.629630</td>\n      <td>0.125367</td>\n    </tr>\n    <tr>\n      <th>Eligibility.SamplingMethod</th>\n      <td>201526.000000</td>\n      <td>0.125000</td>\n    </tr>\n    <tr>\n      <th>Eligibility.StudyPop.Textblock</th>\n      <td>134323.518519</td>\n      <td>0.107066</td>\n    </tr>\n    <tr>\n      <th>Condition</th>\n      <td>153110.066667</td>\n      <td>0.106716</td>\n    </tr>\n    <tr>\n      <th>Eligibility.MinimumAge</th>\n      <td>171274.833333</td>\n      <td>0.098044</td>\n    </tr>\n    <tr>\n      <th>Keyword</th>\n      <td>154165.956522</td>\n      <td>0.091655</td>\n    </tr>\n    <tr>\n      <th>Eligibility.MaximumAge</th>\n      <td>149654.714286</td>\n      <td>0.090635</td>\n    </tr>\n    <tr>\n      <th>BriefTitle</th>\n      <td>125917.250000</td>\n      <td>0.090422</td>\n    </tr>\n    <tr>\n      <th>OversightInfo.HasDmc</th>\n      <td>80604.000000</td>\n      <td>0.080438</td>\n    </tr>\n    <tr>\n      <th>OverallContact.LastName</th>\n      <td>201472.000000</td>\n      <td>0.080201</td>\n    </tr>\n    <tr>\n      <th>ResponsibleParty.InvestigatorAffiliation</th>\n      <td>152001.727273</td>\n      <td>0.079493</td>\n    </tr>\n    <tr>\n      <th>BiospecDescr.Textblock</th>\n      <td>156135.250000</td>\n      <td>0.077757</td>\n    </tr>\n    <tr>\n      <th>WhyStopped</th>\n      <td>133455.500000</td>\n      <td>0.077128</td>\n    </tr>\n    <tr>\n      <th>ResponsibleParty.InvestigatorFullName</th>\n      <td>201443.500000</td>\n      <td>0.076682</td>\n    </tr>\n    <tr>\n      <th>NumberOfGroups</th>\n      <td>201469.250000</td>\n      <td>0.073989</td>\n    </tr>\n    <tr>\n      <th>Phase</th>\n      <td>110799.833333</td>\n      <td>0.070856</td>\n    </tr>\n    <tr>\n      <th>OverallContactBackup.LastName</th>\n      <td>110787.166667</td>\n      <td>0.067549</td>\n    </tr>\n    <tr>\n      <th>OversightInfo.Authority</th>\n      <td>201465.777778</td>\n      <td>0.065642</td>\n    </tr>\n    <tr>\n      <th>IDInfo.SecondaryID</th>\n      <td>201421.500000</td>\n      <td>0.065455</td>\n    </tr>\n    <tr>\n      <th>NumberOfArms</th>\n      <td>110781.000000</td>\n      <td>0.065126</td>\n    </tr>\n    <tr>\n      <th>TargetDuration</th>\n      <td>201498.800000</td>\n      <td>0.062110</td>\n    </tr>\n    <tr>\n      <th>ResponsibleParty.InvestigatorTitle</th>\n      <td>165202.400000</td>\n      <td>0.057543</td>\n    </tr>\n    <tr>\n      <th>IDInfo.OrgStudyID</th>\n      <td>175565.428571</td>\n      <td>0.051498</td>\n    </tr>\n    <tr>\n      <th>ResponsibleParty.Organization</th>\n      <td>119042.636364</td>\n      <td>0.050356</td>\n    </tr>\n    <tr>\n      <th>Acronym</th>\n      <td>110786.000000</td>\n      <td>0.045853</td>\n    </tr>\n    <tr>\n      <th>LastchangedDate</th>\n      <td>141032.333333</td>\n      <td>0.044565</td>\n    </tr>\n    <tr>\n      <th>OverallContactBackup.Phone</th>\n      <td>156152.500000</td>\n      <td>0.043847</td>\n    </tr>\n    <tr>\n      <th>OverallContact.Phone</th>\n      <td>165189.200000</td>\n      <td>0.042007</td>\n    </tr>\n    <tr>\n      <th>ResponsibleParty.NameTitle</th>\n      <td>141026.500000</td>\n      <td>0.040386</td>\n    </tr>\n    <tr>\n      <th>Source</th>\n      <td>123761.428571</td>\n      <td>0.038875</td>\n    </tr>\n    <tr>\n      <th>OverallStatus</th>\n      <td>141036.666667</td>\n      <td>0.035926</td>\n    </tr>\n    <tr>\n      <th>FirstreceivedDate</th>\n      <td>141033.333333</td>\n      <td>0.034603</td>\n    </tr>\n    <tr>\n      <th>FirstreceivedResultsDate</th>\n      <td>110835.500000</td>\n      <td>0.033937</td>\n    </tr>\n    <tr>\n      <th>Enrollment.Text</th>\n      <td>80570.000000</td>\n      <td>0.033654</td>\n    </tr>\n    <tr>\n      <th>StudyDesign</th>\n      <td>156126.000000</td>\n      <td>0.033524</td>\n    </tr>\n    <tr>\n      <th>Sponsors.LeadSponsor.Agency</th>\n      <td>133481.125000</td>\n      <td>0.032648</td>\n    </tr>\n    <tr>\n      <th>RemovedCountries.Country</th>\n      <td>110831.500000</td>\n      <td>0.031746</td>\n    </tr>\n  </tbody>\n</table>\n</div>"
     },
     "execution_count": 27,
     "metadata": {},
     "output_type": "execute_result"
    }
   ],
   "source": [
    "df = df_melt.sort_values(by='value', ascending=False).fillna(0)\n",
    "df_flat = df[df['value'] > 0.0].groupby(['variable_1']).mean().sort_values(by='value', ascending=False)\n",
    "df_flat"
   ]
  },
  {
   "cell_type": "code",
   "execution_count": 30,
   "outputs": [
    {
     "data": {
      "text/plain": "Index(['Eligibility.Gender', 'LocationCountries.Country',\n       'DetailedDescription.Textblock', 'BriefSummary.Textblock',\n       'ConditionBrowse.MeshTerm', 'Eligibility.Criteria.Textblock',\n       'InterventionBrowse.MeshTerm', 'StudyType', 'IsFdaRegulated',\n       'HasExpandedAccess', 'RequiredHeader.LinkText', 'BiospecRetention',\n       'OfficialTitle', 'Eligibility.SamplingMethod',\n       'Eligibility.StudyPop.Textblock', 'Condition', 'Eligibility.MinimumAge',\n       'Keyword', 'Eligibility.MaximumAge', 'BriefTitle'],\n      dtype='object', name='variable_1')"
     },
     "execution_count": 30,
     "metadata": {},
     "output_type": "execute_result"
    }
   ],
   "source": [
    "df_flat[df_flat['value'] > 0.09].index"
   ],
   "metadata": {
    "collapsed": false,
    "pycharm": {
     "name": "#%%\n"
    }
   }
  }
 ],
 "metadata": {
  "kernelspec": {
   "display_name": "Python 3 (ipykernel)",
   "language": "python",
   "name": "python3"
  },
  "language_info": {
   "codemirror_mode": {
    "name": "ipython",
    "version": 3
   },
   "file_extension": ".py",
   "mimetype": "text/x-python",
   "name": "python",
   "nbconvert_exporter": "python",
   "pygments_lexer": "ipython3",
   "version": "3.9.5"
  }
 },
 "nbformat": 4,
 "nbformat_minor": 5
}