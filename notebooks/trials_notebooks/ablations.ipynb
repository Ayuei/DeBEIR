{
 "cells": [
  {
   "cell_type": "code",
   "execution_count": 1,
   "id": "1f1f9acd",
   "metadata": {},
   "outputs": [],
   "source": [
    "import tqdm\n",
    "import pandas as pd\n",
    "from glob import glob\n",
    "from utils.trec_wrapper import parse_run, calculate_scaling_factor\n",
    "from trectools import TrecQrel\n",
    "import os"
   ]
  },
  {
   "cell_type": "code",
   "execution_count": 34,
   "id": "de6e0fd4",
   "metadata": {},
   "outputs": [
    {
     "name": "stderr",
     "output_type": "stream",
     "text": [
      "/tmp/ipykernel_175491/42849105.py:10: TqdmDeprecationWarning: This function will be removed in tqdm==5.0.0\n",
      "Please use `tqdm.notebook.tqdm` instead of `tqdm.tqdm_notebook`\n",
      "  for met, depths in tqdm.tqdm_notebook(metrics.items()):\n"
     ]
    },
    {
     "data": {
      "application/vnd.jupyter.widget-view+json": {
       "model_id": "10ab7ad7a8624c8ea682745d86ab41d6",
       "version_major": 2,
       "version_minor": 0
      },
      "text/plain": [
       "  0%|          | 0/1 [00:00<?, ?it/s]"
      ]
     },
     "metadata": {},
     "output_type": "display_data"
    },
    {
     "data": {
      "text/html": [
       "<div>\n",
       "<style scoped>\n",
       "    .dataframe tbody tr th:only-of-type {\n",
       "        vertical-align: middle;\n",
       "    }\n",
       "\n",
       "    .dataframe tbody tr th {\n",
       "        vertical-align: top;\n",
       "    }\n",
       "\n",
       "    .dataframe thead th {\n",
       "        text-align: right;\n",
       "    }\n",
       "</style>\n",
       "<table border=\"1\" class=\"dataframe\">\n",
       "  <thead>\n",
       "    <tr style=\"text-align: right;\">\n",
       "      <th></th>\n",
       "      <th>topic_num</th>\n",
       "      <th>variable_0</th>\n",
       "      <th>variable_1</th>\n",
       "      <th>value</th>\n",
       "    </tr>\n",
       "  </thead>\n",
       "  <tbody>\n",
       "    <tr>\n",
       "      <th>0</th>\n",
       "      <td>20141</td>\n",
       "      <td>recall@100</td>\n",
       "      <td>ablations_78</td>\n",
       "      <td>NaN</td>\n",
       "    </tr>\n",
       "    <tr>\n",
       "      <th>1</th>\n",
       "      <td>20142</td>\n",
       "      <td>recall@100</td>\n",
       "      <td>ablations_78</td>\n",
       "      <td>NaN</td>\n",
       "    </tr>\n",
       "    <tr>\n",
       "      <th>2</th>\n",
       "      <td>20143</td>\n",
       "      <td>recall@100</td>\n",
       "      <td>ablations_78</td>\n",
       "      <td>NaN</td>\n",
       "    </tr>\n",
       "    <tr>\n",
       "      <th>3</th>\n",
       "      <td>20144</td>\n",
       "      <td>recall@100</td>\n",
       "      <td>ablations_78</td>\n",
       "      <td>NaN</td>\n",
       "    </tr>\n",
       "    <tr>\n",
       "      <th>4</th>\n",
       "      <td>20145</td>\n",
       "      <td>recall@100</td>\n",
       "      <td>ablations_78</td>\n",
       "      <td>NaN</td>\n",
       "    </tr>\n",
       "    <tr>\n",
       "      <th>...</th>\n",
       "      <td>...</td>\n",
       "      <td>...</td>\n",
       "      <td>...</td>\n",
       "      <td>...</td>\n",
       "    </tr>\n",
       "    <tr>\n",
       "      <th>5954</th>\n",
       "      <td>201526</td>\n",
       "      <td>recall@100</td>\n",
       "      <td>ablations_66</td>\n",
       "      <td>NaN</td>\n",
       "    </tr>\n",
       "    <tr>\n",
       "      <th>5955</th>\n",
       "      <td>201527</td>\n",
       "      <td>recall@100</td>\n",
       "      <td>ablations_66</td>\n",
       "      <td>NaN</td>\n",
       "    </tr>\n",
       "    <tr>\n",
       "      <th>5956</th>\n",
       "      <td>201528</td>\n",
       "      <td>recall@100</td>\n",
       "      <td>ablations_66</td>\n",
       "      <td>NaN</td>\n",
       "    </tr>\n",
       "    <tr>\n",
       "      <th>5957</th>\n",
       "      <td>201529</td>\n",
       "      <td>recall@100</td>\n",
       "      <td>ablations_66</td>\n",
       "      <td>NaN</td>\n",
       "    </tr>\n",
       "    <tr>\n",
       "      <th>5958</th>\n",
       "      <td>201530</td>\n",
       "      <td>recall@100</td>\n",
       "      <td>ablations_66</td>\n",
       "      <td>NaN</td>\n",
       "    </tr>\n",
       "  </tbody>\n",
       "</table>\n",
       "<p>5959 rows × 4 columns</p>\n",
       "</div>"
      ],
      "text/plain": [
       "      topic_num  variable_0    variable_1  value\n",
       "0         20141  recall@100  ablations_78    NaN\n",
       "1         20142  recall@100  ablations_78    NaN\n",
       "2         20143  recall@100  ablations_78    NaN\n",
       "3         20144  recall@100  ablations_78    NaN\n",
       "4         20145  recall@100  ablations_78    NaN\n",
       "...         ...         ...           ...    ...\n",
       "5954     201526  recall@100  ablations_66    NaN\n",
       "5955     201527  recall@100  ablations_66    NaN\n",
       "5956     201528  recall@100  ablations_66    NaN\n",
       "5957     201529  recall@100  ablations_66    NaN\n",
       "5958     201530  recall@100  ablations_66    NaN\n",
       "\n",
       "[5959 rows x 4 columns]"
      ]
     },
     "execution_count": 34,
     "metadata": {},
     "output_type": "execute_result"
    }
   ],
   "source": [
    "files = glob(\"../outputs/ablations.txt_*\") \n",
    "qrel = \"../assets/qrels-clinical_trials.txt\"\n",
    "\n",
    "metrics = {\n",
    "    'recall': [100]\n",
    "}\n",
    "\n",
    "all_runs = {}\n",
    "\n",
    "for met, depths in tqdm.tqdm_notebook(metrics.items()):\n",
    "    for depth in depths:\n",
    "        runs = {}    \n",
    "        metric = None\n",
    "        for fp in files: \n",
    "            parsed_run = parse_run(fp, qrel, metric=met, depth=depth)\n",
    "            fn = os.path.split(fp)[-1]\n",
    "\n",
    "            name = fn.replace('.txt', '')\n",
    "            runs[name] = parsed_run.run\n",
    "            metric = parsed_run.metric\n",
    "\n",
    "        all_runs[metric] = runs\n",
    "\n",
    "df = pd.concat({k: pd.DataFrame(v).T for k, v in all_runs.items()}, axis=0)\n",
    "df_melt = pd.melt(df.T, ignore_index=False).reset_index().rename(columns={\"index\": \"topic_num\"})\n",
    "df_melt"
   ]
  },
  {
   "cell_type": "code",
   "execution_count": 28,
   "id": "dbb3a040",
   "metadata": {},
   "outputs": [],
   "source": [
    "mappings = ['HasExpandedAccess', 'BriefSummary.Textblock', 'CompletionDate.Type', 'OversightInfo.Text',     'OverallContactBackup.PhoneExt', 'RemovedCountries.Text', 'SecondaryOutcome', 'Sponsors.LeadSponsor.Text', 'BriefTitl    e', 'IDInfo.NctID', 'IDInfo.SecondaryID', 'OverallContactBackup.Phone', 'Eligibility.StudyPop.Textblock', 'DetailedDe    scription.Textblock', 'Eligibility.MinimumAge', 'Sponsors.Collaborator', 'Reference', 'Eligibility.Criteria.Textblock    ', 'XMLName.Space', 'Rank', 'OverallStatus', 'InterventionBrowse.Text', 'Eligibility.Text', 'Intervention', 'BiospecD    escr.Textblock', 'ResponsibleParty.NameTitle', 'NumberOfArms', 'ResponsibleParty.ResponsiblePartyType', 'IsSection801    ', 'Acronym', 'Eligibility.MaximumAge', 'DetailedDescription.Text', 'StudyDesign', 'OtherOutcome', 'VerificationDate'    , 'ConditionBrowse.MeshTerm', 'Enrollment.Text', 'IDInfo.Text', 'ConditionBrowse.Text', 'FirstreceivedDate', 'NumberO    fGroups', 'OversightInfo.HasDmc', 'PrimaryCompletionDate.Text', 'ResultsReference', 'Eligibility.StudyPop.Text', 'IsF    daRegulated', 'WhyStopped', 'ArmGroup', 'OverallContact.LastName', 'Phase', 'RemovedCountries.Country', 'Intervention    Browse.MeshTerm', 'Eligibility.HealthyVolunteers', 'Location', 'OfficialTitle', 'OverallContact.Email', 'RequiredHeader.Text', 'RequiredHeader.URL', 'LocationCountries.Country', 'OverallContact.PhoneExt', 'Condition', 'PrimaryOutcome'    , 'LocationCountries.Text', 'BiospecDescr.Text', 'IDInfo.OrgStudyID', 'Link', 'OverallContact.Phone', 'Source', 'Resp    onsibleParty.InvestigatorAffiliation', 'StudyType', 'FirstreceivedResultsDate', 'Enrollment.Type', 'Eligibility.Gende    r', 'OverallContactBackup.LastName', 'Keyword', 'BiospecRetention', 'CompletionDate.Text', 'OverallContact.Text', 'Re    quiredHeader.DownloadDate', 'Sponsors.Text', 'Text', 'Eligibility.SamplingMethod', 'LastchangedDate', 'ResponsiblePar    ty.InvestigatorFullName', 'StartDate', 'RequiredHeader.LinkText', 'OverallOfficial', 'Sponsors.LeadSponsor.AgencyClas    s', 'OverallContactBackup.Text', 'Eligibility.Criteria.Text', 'XMLName.Local', 'OversightInfo.Authority', 'PrimaryCom    pletionDate.Type', 'ResponsibleParty.Organization', 'IDInfo.NctAlias', 'ResponsibleParty.Text', 'TargetDuration', 'Sp    onsors.LeadSponsor.Agency', 'BriefSummary.Text', 'OverallContactBackup.Email', 'ResponsibleParty.InvestigatorTitle']\n"
   ]
  },
  {
   "cell_type": "code",
   "execution_count": 32,
   "id": "93b46f0b",
   "metadata": {},
   "outputs": [],
   "source": [
    "mappings = list(map(lambda k: k.replace(' ', ''), mappings))"
   ]
  },
  {
   "cell_type": "code",
   "execution_count": 35,
   "id": "fced2081",
   "metadata": {},
   "outputs": [
    {
     "name": "stderr",
     "output_type": "stream",
     "text": [
      "/tmp/ipykernel_175491/472560622.py:1: TqdmDeprecationWarning: This function will be removed in tqdm==5.0.0\n",
      "Please use `tqdm.notebook.tqdm` instead of `tqdm.tqdm_notebook`\n",
      "  for index, row in tqdm.tqdm_notebook(df_melt.iterrows(), total=len(df_melt)):\n"
     ]
    },
    {
     "data": {
      "application/vnd.jupyter.widget-view+json": {
       "model_id": "c7fd029922d141209fd495754fabaf15",
       "version_major": 2,
       "version_minor": 0
      },
      "text/plain": [
       "  0%|          | 0/5959 [00:00<?, ?it/s]"
      ]
     },
     "metadata": {},
     "output_type": "display_data"
    },
    {
     "data": {
      "text/html": [
       "<div>\n",
       "<style scoped>\n",
       "    .dataframe tbody tr th:only-of-type {\n",
       "        vertical-align: middle;\n",
       "    }\n",
       "\n",
       "    .dataframe tbody tr th {\n",
       "        vertical-align: top;\n",
       "    }\n",
       "\n",
       "    .dataframe thead th {\n",
       "        text-align: right;\n",
       "    }\n",
       "</style>\n",
       "<table border=\"1\" class=\"dataframe\">\n",
       "  <thead>\n",
       "    <tr style=\"text-align: right;\">\n",
       "      <th></th>\n",
       "      <th>topic_num</th>\n",
       "      <th>variable_0</th>\n",
       "      <th>variable_1</th>\n",
       "      <th>value</th>\n",
       "    </tr>\n",
       "  </thead>\n",
       "  <tbody>\n",
       "    <tr>\n",
       "      <th>0</th>\n",
       "      <td>20141</td>\n",
       "      <td>recall@100</td>\n",
       "      <td>RequiredHeader.DownloadDate</td>\n",
       "      <td>NaN</td>\n",
       "    </tr>\n",
       "    <tr>\n",
       "      <th>1</th>\n",
       "      <td>20142</td>\n",
       "      <td>recall@100</td>\n",
       "      <td>RequiredHeader.DownloadDate</td>\n",
       "      <td>NaN</td>\n",
       "    </tr>\n",
       "    <tr>\n",
       "      <th>2</th>\n",
       "      <td>20143</td>\n",
       "      <td>recall@100</td>\n",
       "      <td>RequiredHeader.DownloadDate</td>\n",
       "      <td>NaN</td>\n",
       "    </tr>\n",
       "    <tr>\n",
       "      <th>3</th>\n",
       "      <td>20144</td>\n",
       "      <td>recall@100</td>\n",
       "      <td>RequiredHeader.DownloadDate</td>\n",
       "      <td>NaN</td>\n",
       "    </tr>\n",
       "    <tr>\n",
       "      <th>4</th>\n",
       "      <td>20145</td>\n",
       "      <td>recall@100</td>\n",
       "      <td>RequiredHeader.DownloadDate</td>\n",
       "      <td>NaN</td>\n",
       "    </tr>\n",
       "    <tr>\n",
       "      <th>...</th>\n",
       "      <td>...</td>\n",
       "      <td>...</td>\n",
       "      <td>...</td>\n",
       "      <td>...</td>\n",
       "    </tr>\n",
       "    <tr>\n",
       "      <th>5954</th>\n",
       "      <td>201526</td>\n",
       "      <td>recall@100</td>\n",
       "      <td>OverallContact.Phone</td>\n",
       "      <td>NaN</td>\n",
       "    </tr>\n",
       "    <tr>\n",
       "      <th>5955</th>\n",
       "      <td>201527</td>\n",
       "      <td>recall@100</td>\n",
       "      <td>OverallContact.Phone</td>\n",
       "      <td>NaN</td>\n",
       "    </tr>\n",
       "    <tr>\n",
       "      <th>5956</th>\n",
       "      <td>201528</td>\n",
       "      <td>recall@100</td>\n",
       "      <td>OverallContact.Phone</td>\n",
       "      <td>NaN</td>\n",
       "    </tr>\n",
       "    <tr>\n",
       "      <th>5957</th>\n",
       "      <td>201529</td>\n",
       "      <td>recall@100</td>\n",
       "      <td>OverallContact.Phone</td>\n",
       "      <td>NaN</td>\n",
       "    </tr>\n",
       "    <tr>\n",
       "      <th>5958</th>\n",
       "      <td>201530</td>\n",
       "      <td>recall@100</td>\n",
       "      <td>OverallContact.Phone</td>\n",
       "      <td>NaN</td>\n",
       "    </tr>\n",
       "  </tbody>\n",
       "</table>\n",
       "<p>5959 rows × 4 columns</p>\n",
       "</div>"
      ],
      "text/plain": [
       "      topic_num  variable_0                   variable_1  value\n",
       "0         20141  recall@100  RequiredHeader.DownloadDate    NaN\n",
       "1         20142  recall@100  RequiredHeader.DownloadDate    NaN\n",
       "2         20143  recall@100  RequiredHeader.DownloadDate    NaN\n",
       "3         20144  recall@100  RequiredHeader.DownloadDate    NaN\n",
       "4         20145  recall@100  RequiredHeader.DownloadDate    NaN\n",
       "...         ...         ...                          ...    ...\n",
       "5954     201526  recall@100         OverallContact.Phone    NaN\n",
       "5955     201527  recall@100         OverallContact.Phone    NaN\n",
       "5956     201528  recall@100         OverallContact.Phone    NaN\n",
       "5957     201529  recall@100         OverallContact.Phone    NaN\n",
       "5958     201530  recall@100         OverallContact.Phone    NaN\n",
       "\n",
       "[5959 rows x 4 columns]"
      ]
     },
     "execution_count": 35,
     "metadata": {},
     "output_type": "execute_result"
    }
   ],
   "source": [
    "for index, row in tqdm.tqdm_notebook(df_melt.iterrows(), total=len(df_melt)):\n",
    "    s = \"\"\n",
    "    name = row.variable_1\n",
    "    \n",
    "    df_melt.loc[index, 'variable_1'] = mappings[int(name.split('_')[-1])]\n",
    "    \n",
    "df_melt"
   ]
  },
  {
   "cell_type": "code",
   "execution_count": 47,
   "id": "0bbf9deb",
   "metadata": {},
   "outputs": [
    {
     "data": {
      "text/plain": [
       "31"
      ]
     },
     "execution_count": 47,
     "metadata": {},
     "output_type": "execute_result"
    }
   ],
   "source": [
    "df = df_melt.sort_values(by='value', ascending=False)\n",
    "df[df['value'] > 0.0].groupby(['variable_1']).mean().sort_values(by='value', ascending=False)"
   ]
  },
  {
   "cell_type": "code",
   "execution_count": 23,
   "id": "d8e52907",
   "metadata": {},
   "outputs": [],
   "source": []
  },
  {
   "cell_type": "code",
   "execution_count": null,
   "id": "6860c926",
   "metadata": {},
   "outputs": [],
   "source": []
  }
 ],
 "metadata": {
  "kernelspec": {
   "display_name": "Python 3 (ipykernel)",
   "language": "python",
   "name": "python3"
  },
  "language_info": {
   "codemirror_mode": {
    "name": "ipython",
    "version": 3
   },
   "file_extension": ".py",
   "mimetype": "text/x-python",
   "name": "python",
   "nbconvert_exporter": "python",
   "pygments_lexer": "ipython3",
   "version": "3.9.5"
  }
 },
 "nbformat": 4,
 "nbformat_minor": 5
}
