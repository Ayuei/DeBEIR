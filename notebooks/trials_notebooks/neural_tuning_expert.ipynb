{
 "cells": [
  {
   "cell_type": "code",
   "execution_count": 1,
   "metadata": {},
   "outputs": [],
   "source": [
    "from utils.trec_wrapper import parse_runs, average_of_dict"
   ]
  },
  {
   "cell_type": "code",
   "execution_count": 2,
   "metadata": {},
   "outputs": [],
   "source": [
    "from glob import glob"
   ]
  },
  {
   "cell_type": "code",
   "execution_count": 3,
   "metadata": {},
   "outputs": [],
   "source": [
    "files = glob(\"../outputs/bm25_tuning/*\")\n",
    "\n",
    "QREL_FILE = \"../assets/qrels-clinical_trials.txt\"\n",
    "\n",
    "runs = parse_runs(list(files), qrels=QREL_FILE, metric=\"recall\", depth=100)"
   ]
  },
  {
   "cell_type": "code",
   "execution_count": 4,
   "metadata": {},
   "outputs": [],
   "source": [
    "import os\n",
    "\n",
    "assert len(files) == len(runs)\n",
    "\n",
    "rows = []\n",
    "\n",
    "for _file, run in zip(files, runs):\n",
    "    fn = os.path.split(_file)[-1]\n",
    "    k, b = fn.replace('.txt', '').split('_')\n",
    "    rows.append([float(k), float(b), average_of_dict(run.run, ignore_nans=True)])"
   ]
  },
  {
   "cell_type": "code",
   "execution_count": 5,
   "metadata": {},
   "outputs": [],
   "source": [
    "import pandas as pd"
   ]
  },
  {
   "cell_type": "code",
   "execution_count": 6,
   "metadata": {
    "scrolled": true
   },
   "outputs": [
    {
     "data": {
      "text/plain": [
       "b\n",
       "0.0    0.133082\n",
       "0.1    0.133082\n",
       "0.2    0.141953\n",
       "0.3    0.146820\n",
       "0.4    0.152879\n",
       "0.5    0.160878\n",
       "0.6    0.162416\n",
       "0.7    0.163756\n",
       "0.8    0.170012\n",
       "0.9    0.175676\n",
       "1.0    0.171946\n",
       "dtype: float64"
      ]
     },
     "execution_count": 6,
     "metadata": {},
     "output_type": "execute_result"
    }
   ],
   "source": [
    "df = pd.DataFrame(rows, columns=['k', 'b', 'value']).pivot('k','b', 'value')\n",
    "df = df.fillna(method='ffill')\n",
    "\n",
    "df.max()"
   ]
  },
  {
   "cell_type": "code",
   "execution_count": 7,
   "metadata": {},
   "outputs": [],
   "source": [
    "import seaborn as sns\n",
    "import matplotlib.pyplot as plt"
   ]
  },
  {
   "cell_type": "code",
   "execution_count": 8,
   "metadata": {},
   "outputs": [
    {
     "data": {
      "image/png": "[encoded data removed]",
      "text/plain": [
       "<Figure size 432x288 with 2 Axes>"
      ]
     },
     "metadata": {
      "needs_background": "light"
     },
     "output_type": "display_data"
    }
   ],
   "source": [
    "sns.heatmap(df)\n",
    "plt.savefig('rnd5_recallbm25_tuning_expert.pdf', dpi=600)"
   ]
  },
  {
   "cell_type": "code",
   "execution_count": 9,
   "metadata": {},
   "outputs": [
    {
     "name": "stdout",
     "output_type": "stream",
     "text": [
      "[1.4, 0.9, 0.1756759589785105]\n"
     ]
    }
   ],
   "source": [
    "for row in rows:\n",
    "    if row[2] == float(df.max().max()):\n",
    "        print(row)"
   ]
  },
  {
   "cell_type": "code",
   "execution_count": null,
   "metadata": {},
   "outputs": [],
   "source": []
  }
 ],
 "metadata": {
  "kernelspec": {
   "display_name": "Python 3 (ipykernel)",
   "language": "python",
   "name": "python3"
  },
  "language_info": {
   "codemirror_mode": {
    "name": "ipython",
    "version": 3
   },
   "file_extension": ".py",
   "mimetype": "text/x-python",
   "name": "python",
   "nbconvert_exporter": "python",
   "pygments_lexer": "ipython3",
   "version": "3.9.5"
  }
 },
 "nbformat": 4,
 "nbformat_minor": 4
}
